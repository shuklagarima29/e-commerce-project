{
 "cells": [
  {
   "cell_type": "code",
   "execution_count": null,
   "id": "33e25796-4500-4acb-9ab2-2a83c59d9c8f",
   "metadata": {},
   "outputs": [],
   "source": []
  }
 ],
 "metadata": {
  "kernelspec": {
   "display_name": "",
   "name": ""
  },
  "language_info": {
   "name": ""
  }
 },
 "nbformat": 4,
 "nbformat_minor": 5
}
