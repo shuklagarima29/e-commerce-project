{
 "cells": [
  {
   "cell_type": "code",
   "execution_count": null,
   "id": "2cf7ba71-d5a5-4297-b48e-bc0b2890045d",
   "metadata": {
    "scrolled": true
   },
   "outputs": [],
   "source": [
    "#importing libraries\n",
    "import pandas as pd\n",
    "import matplotlib.pyplot as plt\n",
    "import seaborn as sns\n",
    "\n",
    "#reading the csv from root dir\n",
    "df = pd.read_csv('ecommerce_furniture_dataset_2024.csv')\n",
    "\n",
    "#displaying the 5 rows of dataframe for verification\n",
    "print(df.head(5))"
   ]
  },
  {
   "cell_type": "markdown",
   "id": "5a433921-1297-4de6-bf1e-df0bfc3c493b",
   "metadata": {},
   "source": [
    "# Data Preprocessing"
   ]
  },
  {
   "cell_type": "code",
   "execution_count": 698,
   "id": "b729925b-02e4-4ffe-b040-fd107a9020e6",
   "metadata": {},
   "outputs": [
    {
     "data": {
      "text/plain": [
       "np.int64(94)"
      ]
     },
     "execution_count": 698,
     "metadata": {},
     "output_type": "execute_result"
    }
   ],
   "source": [
    "#finding the number of duplicate rows\n",
    "df.duplicated().sum()"
   ]
  },
  {
   "cell_type": "markdown",
   "id": "1a00310b-362c-4ae8-bc41-010c6e5efe51",
   "metadata": {},
   "source": [
    "# to fill null values"
   ]
  },
  {
   "cell_type": "code",
   "execution_count": 699,
   "id": "31ac5ecb-1980-43b4-9116-543555b1dd9c",
   "metadata": {
    "scrolled": true
   },
   "outputs": [
    {
     "data": {
      "text/html": [
       "<div>\n",
       "<style scoped>\n",
       "    .dataframe tbody tr th:only-of-type {\n",
       "        vertical-align: middle;\n",
       "    }\n",
       "\n",
       "    .dataframe tbody tr th {\n",
       "        vertical-align: top;\n",
       "    }\n",
       "\n",
       "    .dataframe thead th {\n",
       "        text-align: right;\n",
       "    }\n",
       "</style>\n",
       "<table border=\"1\" class=\"dataframe\">\n",
       "  <thead>\n",
       "    <tr style=\"text-align: right;\">\n",
       "      <th></th>\n",
       "      <th>productTitle</th>\n",
       "      <th>originalPrice</th>\n",
       "      <th>price</th>\n",
       "      <th>sold</th>\n",
       "      <th>tagText</th>\n",
       "    </tr>\n",
       "  </thead>\n",
       "  <tbody>\n",
       "    <tr>\n",
       "      <th>0</th>\n",
       "      <td>Dresser For Bedroom With 9 Fabric Drawers Ward...</td>\n",
       "      <td>0</td>\n",
       "      <td>$46.79</td>\n",
       "      <td>600</td>\n",
       "      <td>Free shipping</td>\n",
       "    </tr>\n",
       "    <tr>\n",
       "      <th>1</th>\n",
       "      <td>Outdoor Conversation Set 4 Pieces Patio Furnit...</td>\n",
       "      <td>0</td>\n",
       "      <td>$169.72</td>\n",
       "      <td>0</td>\n",
       "      <td>Free shipping</td>\n",
       "    </tr>\n",
       "    <tr>\n",
       "      <th>2</th>\n",
       "      <td>Desser For Bedroom With 7 Fabric Drawers Organ...</td>\n",
       "      <td>$78.4</td>\n",
       "      <td>$39.46</td>\n",
       "      <td>7</td>\n",
       "      <td>Free shipping</td>\n",
       "    </tr>\n",
       "    <tr>\n",
       "      <th>3</th>\n",
       "      <td>Modern Accent Boucle Chair,Upholstered Tufted ...</td>\n",
       "      <td>0</td>\n",
       "      <td>$111.99</td>\n",
       "      <td>0</td>\n",
       "      <td>Free shipping</td>\n",
       "    </tr>\n",
       "    <tr>\n",
       "      <th>4</th>\n",
       "      <td>Small Unit Simple Computer Desk Household Wood...</td>\n",
       "      <td>$48.82</td>\n",
       "      <td>$21.37</td>\n",
       "      <td>1</td>\n",
       "      <td>Free shipping</td>\n",
       "    </tr>\n",
       "  </tbody>\n",
       "</table>\n",
       "</div>"
      ],
      "text/plain": [
       "                                        productTitle originalPrice    price  \\\n",
       "0  Dresser For Bedroom With 9 Fabric Drawers Ward...             0   $46.79   \n",
       "1  Outdoor Conversation Set 4 Pieces Patio Furnit...             0  $169.72   \n",
       "2  Desser For Bedroom With 7 Fabric Drawers Organ...         $78.4   $39.46   \n",
       "3  Modern Accent Boucle Chair,Upholstered Tufted ...             0  $111.99   \n",
       "4  Small Unit Simple Computer Desk Household Wood...        $48.82   $21.37   \n",
       "\n",
       "   sold        tagText  \n",
       "0   600  Free shipping  \n",
       "1     0  Free shipping  \n",
       "2     7  Free shipping  \n",
       "3     0  Free shipping  \n",
       "4     1  Free shipping  "
      ]
     },
     "execution_count": 699,
     "metadata": {},
     "output_type": "execute_result"
    }
   ],
   "source": [
    "#filling the null values with in 0 in dataframe\n",
    "df1=df.fillna(0)\n",
    "df1.head(5)"
   ]
  },
  {
   "cell_type": "code",
   "execution_count": 700,
   "id": "2a2977d9-019e-47d9-b6c2-ca7a56ece7b2",
   "metadata": {},
   "outputs": [
    {
     "data": {
      "text/plain": [
       "np.int64(46987)"
      ]
     },
     "execution_count": 700,
     "metadata": {},
     "output_type": "execute_result"
    }
   ],
   "source": [
    "#Total number of products sold \n",
    "df1['sold'].sum()"
   ]
  },
  {
   "cell_type": "markdown",
   "id": "7ce0ec3d-6de6-4d74-8a89-7d51ef70575e",
   "metadata": {},
   "source": [
    "# Data Visualization"
   ]
  },
  {
   "cell_type": "code",
   "execution_count": 701,
   "id": "5b65272e-5df4-42f6-bed0-6c0bb17de980",
   "metadata": {
    "scrolled": true
   },
   "outputs": [],
   "source": [
    "# Dropping duplicate rows\n",
    "df1=df1.drop_duplicates()"
   ]
  },
  {
   "cell_type": "code",
   "execution_count": 702,
   "id": "26b0f316-131c-463c-8e3c-bb1a7c9035d3",
   "metadata": {
    "scrolled": true
   },
   "outputs": [
    {
     "data": {
      "text/html": [
       "<div>\n",
       "<style scoped>\n",
       "    .dataframe tbody tr th:only-of-type {\n",
       "        vertical-align: middle;\n",
       "    }\n",
       "\n",
       "    .dataframe tbody tr th {\n",
       "        vertical-align: top;\n",
       "    }\n",
       "\n",
       "    .dataframe thead th {\n",
       "        text-align: right;\n",
       "    }\n",
       "</style>\n",
       "<table border=\"1\" class=\"dataframe\">\n",
       "  <thead>\n",
       "    <tr style=\"text-align: right;\">\n",
       "      <th></th>\n",
       "      <th>sold</th>\n",
       "    </tr>\n",
       "  </thead>\n",
       "  <tbody>\n",
       "    <tr>\n",
       "      <th>count</th>\n",
       "      <td>1906.000000</td>\n",
       "    </tr>\n",
       "    <tr>\n",
       "      <th>mean</th>\n",
       "      <td>24.449633</td>\n",
       "    </tr>\n",
       "    <tr>\n",
       "      <th>std</th>\n",
       "      <td>260.247848</td>\n",
       "    </tr>\n",
       "    <tr>\n",
       "      <th>min</th>\n",
       "      <td>0.000000</td>\n",
       "    </tr>\n",
       "    <tr>\n",
       "      <th>25%</th>\n",
       "      <td>1.000000</td>\n",
       "    </tr>\n",
       "    <tr>\n",
       "      <th>50%</th>\n",
       "      <td>3.000000</td>\n",
       "    </tr>\n",
       "    <tr>\n",
       "      <th>75%</th>\n",
       "      <td>9.750000</td>\n",
       "    </tr>\n",
       "    <tr>\n",
       "      <th>max</th>\n",
       "      <td>10000.000000</td>\n",
       "    </tr>\n",
       "  </tbody>\n",
       "</table>\n",
       "</div>"
      ],
      "text/plain": [
       "               sold\n",
       "count   1906.000000\n",
       "mean      24.449633\n",
       "std      260.247848\n",
       "min        0.000000\n",
       "25%        1.000000\n",
       "50%        3.000000\n",
       "75%        9.750000\n",
       "max    10000.000000"
      ]
     },
     "execution_count": 702,
     "metadata": {},
     "output_type": "execute_result"
    }
   ],
   "source": [
    "#describing the data for better understanding \n",
    "df1.describe()"
   ]
  },
  {
   "cell_type": "code",
   "execution_count": 703,
   "id": "354ce2fb-ce3e-4fa4-8e01-86aeada665c1",
   "metadata": {},
   "outputs": [
    {
     "data": {
      "text/plain": [
       "(1906, 5)"
      ]
     },
     "execution_count": 703,
     "metadata": {},
     "output_type": "execute_result"
    }
   ],
   "source": [
    "df1.shape"
   ]
  },
  {
   "cell_type": "code",
   "execution_count": 704,
   "id": "f05cb197-21a5-453b-810e-f94e7f9a1757",
   "metadata": {
    "scrolled": true
   },
   "outputs": [
    {
     "name": "stdout",
     "output_type": "stream",
     "text": [
      "<class 'pandas.core.frame.DataFrame'>\n",
      "Index: 1906 entries, 0 to 1999\n",
      "Data columns (total 5 columns):\n",
      " #   Column         Non-Null Count  Dtype \n",
      "---  ------         --------------  ----- \n",
      " 0   productTitle   1906 non-null   object\n",
      " 1   originalPrice  1906 non-null   object\n",
      " 2   price          1906 non-null   object\n",
      " 3   sold           1906 non-null   int64 \n",
      " 4   tagText        1906 non-null   object\n",
      "dtypes: int64(1), object(4)\n",
      "memory usage: 89.3+ KB\n"
     ]
    }
   ],
   "source": [
    "df1.info()"
   ]
  },
  {
   "cell_type": "markdown",
   "id": "a1352247-bfe1-454e-8c1a-003edd3bb08d",
   "metadata": {},
   "source": [
    "# changing data types"
   ]
  },
  {
   "cell_type": "code",
   "execution_count": 705,
   "id": "3c270ef2-1151-4323-8fb1-434f4461c52a",
   "metadata": {},
   "outputs": [
    {
     "data": {
      "text/html": [
       "<div>\n",
       "<style scoped>\n",
       "    .dataframe tbody tr th:only-of-type {\n",
       "        vertical-align: middle;\n",
       "    }\n",
       "\n",
       "    .dataframe tbody tr th {\n",
       "        vertical-align: top;\n",
       "    }\n",
       "\n",
       "    .dataframe thead th {\n",
       "        text-align: right;\n",
       "    }\n",
       "</style>\n",
       "<table border=\"1\" class=\"dataframe\">\n",
       "  <thead>\n",
       "    <tr style=\"text-align: right;\">\n",
       "      <th></th>\n",
       "      <th>productTitle</th>\n",
       "      <th>originalPrice</th>\n",
       "      <th>price</th>\n",
       "      <th>sold</th>\n",
       "      <th>tagText</th>\n",
       "    </tr>\n",
       "  </thead>\n",
       "  <tbody>\n",
       "    <tr>\n",
       "      <th>0</th>\n",
       "      <td>Dresser For Bedroom With 9 Fabric Drawers Ward...</td>\n",
       "      <td>0</td>\n",
       "      <td>$46.79</td>\n",
       "      <td>600</td>\n",
       "      <td>Free shipping</td>\n",
       "    </tr>\n",
       "    <tr>\n",
       "      <th>1</th>\n",
       "      <td>Outdoor Conversation Set 4 Pieces Patio Furnit...</td>\n",
       "      <td>0</td>\n",
       "      <td>$169.72</td>\n",
       "      <td>0</td>\n",
       "      <td>Free shipping</td>\n",
       "    </tr>\n",
       "    <tr>\n",
       "      <th>2</th>\n",
       "      <td>Desser For Bedroom With 7 Fabric Drawers Organ...</td>\n",
       "      <td>$78.4</td>\n",
       "      <td>$39.46</td>\n",
       "      <td>7</td>\n",
       "      <td>Free shipping</td>\n",
       "    </tr>\n",
       "    <tr>\n",
       "      <th>3</th>\n",
       "      <td>Modern Accent Boucle Chair,Upholstered Tufted ...</td>\n",
       "      <td>0</td>\n",
       "      <td>$111.99</td>\n",
       "      <td>0</td>\n",
       "      <td>Free shipping</td>\n",
       "    </tr>\n",
       "    <tr>\n",
       "      <th>4</th>\n",
       "      <td>Small Unit Simple Computer Desk Household Wood...</td>\n",
       "      <td>$48.82</td>\n",
       "      <td>$21.37</td>\n",
       "      <td>1</td>\n",
       "      <td>Free shipping</td>\n",
       "    </tr>\n",
       "  </tbody>\n",
       "</table>\n",
       "</div>"
      ],
      "text/plain": [
       "                                        productTitle originalPrice    price  \\\n",
       "0  Dresser For Bedroom With 9 Fabric Drawers Ward...             0   $46.79   \n",
       "1  Outdoor Conversation Set 4 Pieces Patio Furnit...             0  $169.72   \n",
       "2  Desser For Bedroom With 7 Fabric Drawers Organ...         $78.4   $39.46   \n",
       "3  Modern Accent Boucle Chair,Upholstered Tufted ...             0  $111.99   \n",
       "4  Small Unit Simple Computer Desk Household Wood...        $48.82   $21.37   \n",
       "\n",
       "   sold        tagText  \n",
       "0   600  Free shipping  \n",
       "1     0  Free shipping  \n",
       "2     7  Free shipping  \n",
       "3     0  Free shipping  \n",
       "4     1  Free shipping  "
      ]
     },
     "execution_count": 705,
     "metadata": {},
     "output_type": "execute_result"
    }
   ],
   "source": [
    "df1.head(5)"
   ]
  },
  {
   "cell_type": "code",
   "execution_count": 706,
   "id": "40a6812c-9342-4bec-9caa-22d26b10b199",
   "metadata": {},
   "outputs": [],
   "source": [
    "# Converting Price and Original Price columns into numeric values and replacing symbols using regular expression\n",
    "df1['price'] = df1['price'].str.replace('$', '', regex=False)  \n",
    "df1['price'] = df1['price'].str.replace(',', '', regex=False)  \n",
    "df1['price'] = pd.to_numeric(df1['price']) \n",
    "df1['originalPrice'] = df1['originalPrice'].str.replace('$', '', regex=False)  \n",
    "df1['originalPrice'] = df1['originalPrice'].str.replace(',', '', regex=False) \n",
    "df1['originalPrice'] = pd.to_numeric(df1['originalPrice']) \n"
   ]
  },
  {
   "cell_type": "code",
   "execution_count": 707,
   "id": "04d228ea-d350-4d31-bd8c-1a224ed7e9d1",
   "metadata": {},
   "outputs": [
    {
     "data": {
      "text/html": [
       "<div>\n",
       "<style scoped>\n",
       "    .dataframe tbody tr th:only-of-type {\n",
       "        vertical-align: middle;\n",
       "    }\n",
       "\n",
       "    .dataframe tbody tr th {\n",
       "        vertical-align: top;\n",
       "    }\n",
       "\n",
       "    .dataframe thead th {\n",
       "        text-align: right;\n",
       "    }\n",
       "</style>\n",
       "<table border=\"1\" class=\"dataframe\">\n",
       "  <thead>\n",
       "    <tr style=\"text-align: right;\">\n",
       "      <th></th>\n",
       "      <th>productTitle</th>\n",
       "      <th>originalPrice</th>\n",
       "      <th>price</th>\n",
       "      <th>sold</th>\n",
       "      <th>tagText</th>\n",
       "    </tr>\n",
       "  </thead>\n",
       "  <tbody>\n",
       "    <tr>\n",
       "      <th>0</th>\n",
       "      <td>Dresser For Bedroom With 9 Fabric Drawers Ward...</td>\n",
       "      <td>56.148</td>\n",
       "      <td>46.79</td>\n",
       "      <td>600</td>\n",
       "      <td>Free shipping</td>\n",
       "    </tr>\n",
       "    <tr>\n",
       "      <th>1</th>\n",
       "      <td>Outdoor Conversation Set 4 Pieces Patio Furnit...</td>\n",
       "      <td>203.664</td>\n",
       "      <td>169.72</td>\n",
       "      <td>0</td>\n",
       "      <td>Free shipping</td>\n",
       "    </tr>\n",
       "    <tr>\n",
       "      <th>2</th>\n",
       "      <td>Desser For Bedroom With 7 Fabric Drawers Organ...</td>\n",
       "      <td>78.400</td>\n",
       "      <td>39.46</td>\n",
       "      <td>7</td>\n",
       "      <td>Free shipping</td>\n",
       "    </tr>\n",
       "    <tr>\n",
       "      <th>3</th>\n",
       "      <td>Modern Accent Boucle Chair,Upholstered Tufted ...</td>\n",
       "      <td>134.388</td>\n",
       "      <td>111.99</td>\n",
       "      <td>0</td>\n",
       "      <td>Free shipping</td>\n",
       "    </tr>\n",
       "    <tr>\n",
       "      <th>4</th>\n",
       "      <td>Small Unit Simple Computer Desk Household Wood...</td>\n",
       "      <td>48.820</td>\n",
       "      <td>21.37</td>\n",
       "      <td>1</td>\n",
       "      <td>Free shipping</td>\n",
       "    </tr>\n",
       "  </tbody>\n",
       "</table>\n",
       "</div>"
      ],
      "text/plain": [
       "                                        productTitle  originalPrice   price  \\\n",
       "0  Dresser For Bedroom With 9 Fabric Drawers Ward...         56.148   46.79   \n",
       "1  Outdoor Conversation Set 4 Pieces Patio Furnit...        203.664  169.72   \n",
       "2  Desser For Bedroom With 7 Fabric Drawers Organ...         78.400   39.46   \n",
       "3  Modern Accent Boucle Chair,Upholstered Tufted ...        134.388  111.99   \n",
       "4  Small Unit Simple Computer Desk Household Wood...         48.820   21.37   \n",
       "\n",
       "   sold        tagText  \n",
       "0   600  Free shipping  \n",
       "1     0  Free shipping  \n",
       "2     7  Free shipping  \n",
       "3     0  Free shipping  \n",
       "4     1  Free shipping  "
      ]
     },
     "execution_count": 707,
     "metadata": {},
     "output_type": "execute_result"
    }
   ],
   "source": [
    "# Filling Original Price column by assuming 20% of Price column\n",
    "df1['originalPrice'] = df1['originalPrice'].fillna(df1['price'] * 1.2)\n",
    "df1.head(5)"
   ]
  },
  {
   "cell_type": "code",
   "execution_count": 708,
   "id": "040c863f-12b3-45d3-9006-e486a99f7767",
   "metadata": {
    "scrolled": true
   },
   "outputs": [
    {
     "name": "stdout",
     "output_type": "stream",
     "text": [
      "         tagText  shippingCost  isFreeShipping\n",
      "0  Free shipping           0.0               1\n",
      "1  Free shipping           0.0               1\n",
      "2  Free shipping           0.0               1\n",
      "3  Free shipping           0.0               1\n",
      "4  Free shipping           0.0               1\n"
     ]
    }
   ],
   "source": [
    "\n",
    "# Extract shipping costs into a new column\n",
    "df1['shippingCost'] = df1['tagText'].str.extract(r'\\+Shipping:\\s*([\\d\\.]+)', expand=False).astype(float)\n",
    "\n",
    "# Fill missing shipping costs (assume \"Free shipping\" means 0 cost)\n",
    "df1['shippingCost'] = df1['shippingCost'].fillna(0)\n",
    "\n",
    "# Create a binary column for free shipping\n",
    "df1['isFreeShipping'] = df1['tagText'].str.contains('Free shipping', case=False, na=False).astype(int)\n",
    "\n",
    "# Handle missing values in 'tagText'\n",
    "df1['tagText'] = df1['tagText'].fillna('Unknown')\n",
    "\n",
    "# Verify results\n",
    "print(df1[['tagText', 'shippingCost', 'isFreeShipping']].head())\n"
   ]
  },
  {
   "cell_type": "code",
   "execution_count": 709,
   "id": "0789416b-543b-444c-a6df-1821bdaee9c4",
   "metadata": {
    "scrolled": true
   },
   "outputs": [
    {
     "name": "stdout",
     "output_type": "stream",
     "text": [
      "<class 'pandas.core.frame.DataFrame'>\n",
      "Index: 1906 entries, 0 to 1999\n",
      "Data columns (total 7 columns):\n",
      " #   Column          Non-Null Count  Dtype  \n",
      "---  ------          --------------  -----  \n",
      " 0   productTitle    1906 non-null   object \n",
      " 1   originalPrice   1906 non-null   float64\n",
      " 2   price           1906 non-null   float64\n",
      " 3   sold            1906 non-null   int64  \n",
      " 4   tagText         1906 non-null   object \n",
      " 5   shippingCost    1906 non-null   float64\n",
      " 6   isFreeShipping  1906 non-null   int64  \n",
      "dtypes: float64(3), int64(2), object(2)\n",
      "memory usage: 119.1+ KB\n"
     ]
    }
   ],
   "source": [
    "df1.info()"
   ]
  },
  {
   "cell_type": "markdown",
   "id": "fbb9ed04-37d8-4ddf-883d-da48d4e2e8c5",
   "metadata": {},
   "source": [
    "# Numerical Analysis"
   ]
  },
  {
   "cell_type": "code",
   "execution_count": 710,
   "id": "d43e0157-84a3-4f90-8b18-38789e8f2ef7",
   "metadata": {
    "scrolled": true
   },
   "outputs": [
    {
     "name": "stdout",
     "output_type": "stream",
     "text": [
      "    price  shippingCost  totalCost\n",
      "0   46.79           0.0      46.79\n",
      "1  169.72           0.0     169.72\n",
      "2   39.46           0.0      39.46\n",
      "3  111.99           0.0     111.99\n",
      "4   21.37           0.0      21.37\n"
     ]
    },
    {
     "data": {
      "text/html": [
       "<div>\n",
       "<style scoped>\n",
       "    .dataframe tbody tr th:only-of-type {\n",
       "        vertical-align: middle;\n",
       "    }\n",
       "\n",
       "    .dataframe tbody tr th {\n",
       "        vertical-align: top;\n",
       "    }\n",
       "\n",
       "    .dataframe thead th {\n",
       "        text-align: right;\n",
       "    }\n",
       "</style>\n",
       "<table border=\"1\" class=\"dataframe\">\n",
       "  <thead>\n",
       "    <tr style=\"text-align: right;\">\n",
       "      <th></th>\n",
       "      <th>productTitle</th>\n",
       "      <th>originalPrice</th>\n",
       "      <th>price</th>\n",
       "      <th>sold</th>\n",
       "      <th>tagText</th>\n",
       "      <th>shippingCost</th>\n",
       "      <th>isFreeShipping</th>\n",
       "      <th>totalCost</th>\n",
       "    </tr>\n",
       "  </thead>\n",
       "  <tbody>\n",
       "    <tr>\n",
       "      <th>0</th>\n",
       "      <td>Dresser For Bedroom With 9 Fabric Drawers Ward...</td>\n",
       "      <td>56.148</td>\n",
       "      <td>46.79</td>\n",
       "      <td>600</td>\n",
       "      <td>Free shipping</td>\n",
       "      <td>0.0</td>\n",
       "      <td>1</td>\n",
       "      <td>46.79</td>\n",
       "    </tr>\n",
       "    <tr>\n",
       "      <th>1</th>\n",
       "      <td>Outdoor Conversation Set 4 Pieces Patio Furnit...</td>\n",
       "      <td>203.664</td>\n",
       "      <td>169.72</td>\n",
       "      <td>0</td>\n",
       "      <td>Free shipping</td>\n",
       "      <td>0.0</td>\n",
       "      <td>1</td>\n",
       "      <td>169.72</td>\n",
       "    </tr>\n",
       "    <tr>\n",
       "      <th>2</th>\n",
       "      <td>Desser For Bedroom With 7 Fabric Drawers Organ...</td>\n",
       "      <td>78.400</td>\n",
       "      <td>39.46</td>\n",
       "      <td>7</td>\n",
       "      <td>Free shipping</td>\n",
       "      <td>0.0</td>\n",
       "      <td>1</td>\n",
       "      <td>39.46</td>\n",
       "    </tr>\n",
       "    <tr>\n",
       "      <th>3</th>\n",
       "      <td>Modern Accent Boucle Chair,Upholstered Tufted ...</td>\n",
       "      <td>134.388</td>\n",
       "      <td>111.99</td>\n",
       "      <td>0</td>\n",
       "      <td>Free shipping</td>\n",
       "      <td>0.0</td>\n",
       "      <td>1</td>\n",
       "      <td>111.99</td>\n",
       "    </tr>\n",
       "    <tr>\n",
       "      <th>4</th>\n",
       "      <td>Small Unit Simple Computer Desk Household Wood...</td>\n",
       "      <td>48.820</td>\n",
       "      <td>21.37</td>\n",
       "      <td>1</td>\n",
       "      <td>Free shipping</td>\n",
       "      <td>0.0</td>\n",
       "      <td>1</td>\n",
       "      <td>21.37</td>\n",
       "    </tr>\n",
       "  </tbody>\n",
       "</table>\n",
       "</div>"
      ],
      "text/plain": [
       "                                        productTitle  originalPrice   price  \\\n",
       "0  Dresser For Bedroom With 9 Fabric Drawers Ward...         56.148   46.79   \n",
       "1  Outdoor Conversation Set 4 Pieces Patio Furnit...        203.664  169.72   \n",
       "2  Desser For Bedroom With 7 Fabric Drawers Organ...         78.400   39.46   \n",
       "3  Modern Accent Boucle Chair,Upholstered Tufted ...        134.388  111.99   \n",
       "4  Small Unit Simple Computer Desk Household Wood...         48.820   21.37   \n",
       "\n",
       "   sold        tagText  shippingCost  isFreeShipping  totalCost  \n",
       "0   600  Free shipping           0.0               1      46.79  \n",
       "1     0  Free shipping           0.0               1     169.72  \n",
       "2     7  Free shipping           0.0               1      39.46  \n",
       "3     0  Free shipping           0.0               1     111.99  \n",
       "4     1  Free shipping           0.0               1      21.37  "
      ]
     },
     "execution_count": 710,
     "metadata": {},
     "output_type": "execute_result"
    }
   ],
   "source": [
    "# Calculate total cost as price + shipping cost \n",
    "df1['totalCost'] = df1['price'] + df1['shippingCost']\n",
    "\n",
    "# Verify the results\n",
    "print(df1[['price', 'shippingCost', 'totalCost']].head())\n",
    "df1.head(5)"
   ]
  },
  {
   "cell_type": "code",
   "execution_count": 711,
   "id": "8a4dcf5b-aec8-40d1-9603-87dd23ff9b84",
   "metadata": {
    "scrolled": true
   },
   "outputs": [
    {
     "data": {
      "text/html": [
       "<div>\n",
       "<style scoped>\n",
       "    .dataframe tbody tr th:only-of-type {\n",
       "        vertical-align: middle;\n",
       "    }\n",
       "\n",
       "    .dataframe tbody tr th {\n",
       "        vertical-align: top;\n",
       "    }\n",
       "\n",
       "    .dataframe thead th {\n",
       "        text-align: right;\n",
       "    }\n",
       "</style>\n",
       "<table border=\"1\" class=\"dataframe\">\n",
       "  <thead>\n",
       "    <tr style=\"text-align: right;\">\n",
       "      <th></th>\n",
       "      <th>productTitle</th>\n",
       "      <th>originalPrice</th>\n",
       "      <th>price</th>\n",
       "      <th>sold</th>\n",
       "      <th>tagText</th>\n",
       "      <th>shippingCost</th>\n",
       "      <th>isFreeShipping</th>\n",
       "      <th>totalCost</th>\n",
       "      <th>totalRevenue</th>\n",
       "    </tr>\n",
       "  </thead>\n",
       "  <tbody>\n",
       "    <tr>\n",
       "      <th>0</th>\n",
       "      <td>Dresser For Bedroom With 9 Fabric Drawers Ward...</td>\n",
       "      <td>56.148</td>\n",
       "      <td>46.79</td>\n",
       "      <td>600</td>\n",
       "      <td>Free shipping</td>\n",
       "      <td>0.0</td>\n",
       "      <td>1</td>\n",
       "      <td>46.79</td>\n",
       "      <td>28074.00</td>\n",
       "    </tr>\n",
       "    <tr>\n",
       "      <th>1</th>\n",
       "      <td>Outdoor Conversation Set 4 Pieces Patio Furnit...</td>\n",
       "      <td>203.664</td>\n",
       "      <td>169.72</td>\n",
       "      <td>0</td>\n",
       "      <td>Free shipping</td>\n",
       "      <td>0.0</td>\n",
       "      <td>1</td>\n",
       "      <td>169.72</td>\n",
       "      <td>0.00</td>\n",
       "    </tr>\n",
       "    <tr>\n",
       "      <th>2</th>\n",
       "      <td>Desser For Bedroom With 7 Fabric Drawers Organ...</td>\n",
       "      <td>78.400</td>\n",
       "      <td>39.46</td>\n",
       "      <td>7</td>\n",
       "      <td>Free shipping</td>\n",
       "      <td>0.0</td>\n",
       "      <td>1</td>\n",
       "      <td>39.46</td>\n",
       "      <td>276.22</td>\n",
       "    </tr>\n",
       "    <tr>\n",
       "      <th>3</th>\n",
       "      <td>Modern Accent Boucle Chair,Upholstered Tufted ...</td>\n",
       "      <td>134.388</td>\n",
       "      <td>111.99</td>\n",
       "      <td>0</td>\n",
       "      <td>Free shipping</td>\n",
       "      <td>0.0</td>\n",
       "      <td>1</td>\n",
       "      <td>111.99</td>\n",
       "      <td>0.00</td>\n",
       "    </tr>\n",
       "    <tr>\n",
       "      <th>4</th>\n",
       "      <td>Small Unit Simple Computer Desk Household Wood...</td>\n",
       "      <td>48.820</td>\n",
       "      <td>21.37</td>\n",
       "      <td>1</td>\n",
       "      <td>Free shipping</td>\n",
       "      <td>0.0</td>\n",
       "      <td>1</td>\n",
       "      <td>21.37</td>\n",
       "      <td>21.37</td>\n",
       "    </tr>\n",
       "  </tbody>\n",
       "</table>\n",
       "</div>"
      ],
      "text/plain": [
       "                                        productTitle  originalPrice   price  \\\n",
       "0  Dresser For Bedroom With 9 Fabric Drawers Ward...         56.148   46.79   \n",
       "1  Outdoor Conversation Set 4 Pieces Patio Furnit...        203.664  169.72   \n",
       "2  Desser For Bedroom With 7 Fabric Drawers Organ...         78.400   39.46   \n",
       "3  Modern Accent Boucle Chair,Upholstered Tufted ...        134.388  111.99   \n",
       "4  Small Unit Simple Computer Desk Household Wood...         48.820   21.37   \n",
       "\n",
       "   sold        tagText  shippingCost  isFreeShipping  totalCost  totalRevenue  \n",
       "0   600  Free shipping           0.0               1      46.79      28074.00  \n",
       "1     0  Free shipping           0.0               1     169.72          0.00  \n",
       "2     7  Free shipping           0.0               1      39.46        276.22  \n",
       "3     0  Free shipping           0.0               1     111.99          0.00  \n",
       "4     1  Free shipping           0.0               1      21.37         21.37  "
      ]
     },
     "execution_count": 711,
     "metadata": {},
     "output_type": "execute_result"
    }
   ],
   "source": [
    "# Calculating total revenue as price * unit sold\n",
    "df1['totalRevenue']=df1['price']*df1['sold']\n",
    "df1.head(5)"
   ]
  },
  {
   "cell_type": "code",
   "execution_count": 670,
   "id": "00431d2d-652b-4a18-b3c1-96104a5d4131",
   "metadata": {},
   "outputs": [
    {
     "name": "stdout",
     "output_type": "stream",
     "text": [
      "Total Sales: $2110806.88\n"
     ]
    }
   ],
   "source": [
    "# Calculating the total sales for summing total revenue\n",
    "totalSales=df1['totalRevenue'].sum()\n",
    "print(f\"Total Sales: ${totalSales:.2f}\")"
   ]
  },
  {
   "cell_type": "code",
   "execution_count": 713,
   "id": "136fffe4-e393-45b6-9c62-1e387111eb6f",
   "metadata": {
    "scrolled": true
   },
   "outputs": [
    {
     "data": {
      "text/html": [
       "<div>\n",
       "<style scoped>\n",
       "    .dataframe tbody tr th:only-of-type {\n",
       "        vertical-align: middle;\n",
       "    }\n",
       "\n",
       "    .dataframe tbody tr th {\n",
       "        vertical-align: top;\n",
       "    }\n",
       "\n",
       "    .dataframe thead th {\n",
       "        text-align: right;\n",
       "    }\n",
       "</style>\n",
       "<table border=\"1\" class=\"dataframe\">\n",
       "  <thead>\n",
       "    <tr style=\"text-align: right;\">\n",
       "      <th></th>\n",
       "      <th>productTitle</th>\n",
       "      <th>originalPrice</th>\n",
       "      <th>price</th>\n",
       "      <th>sold</th>\n",
       "      <th>tagText</th>\n",
       "      <th>shippingCost</th>\n",
       "      <th>isFreeShipping</th>\n",
       "      <th>totalCost</th>\n",
       "      <th>totalRevenue</th>\n",
       "      <th>discountAmount</th>\n",
       "      <th>discountPercent</th>\n",
       "    </tr>\n",
       "  </thead>\n",
       "  <tbody>\n",
       "    <tr>\n",
       "      <th>0</th>\n",
       "      <td>Dresser For Bedroom With 9 Fabric Drawers Ward...</td>\n",
       "      <td>56.148</td>\n",
       "      <td>46.79</td>\n",
       "      <td>600</td>\n",
       "      <td>Free shipping</td>\n",
       "      <td>0.0</td>\n",
       "      <td>1</td>\n",
       "      <td>46.79</td>\n",
       "      <td>28074.00</td>\n",
       "      <td>9.358</td>\n",
       "      <td>16.666667</td>\n",
       "    </tr>\n",
       "    <tr>\n",
       "      <th>1</th>\n",
       "      <td>Outdoor Conversation Set 4 Pieces Patio Furnit...</td>\n",
       "      <td>203.664</td>\n",
       "      <td>169.72</td>\n",
       "      <td>0</td>\n",
       "      <td>Free shipping</td>\n",
       "      <td>0.0</td>\n",
       "      <td>1</td>\n",
       "      <td>169.72</td>\n",
       "      <td>0.00</td>\n",
       "      <td>33.944</td>\n",
       "      <td>16.666667</td>\n",
       "    </tr>\n",
       "    <tr>\n",
       "      <th>2</th>\n",
       "      <td>Desser For Bedroom With 7 Fabric Drawers Organ...</td>\n",
       "      <td>78.400</td>\n",
       "      <td>39.46</td>\n",
       "      <td>7</td>\n",
       "      <td>Free shipping</td>\n",
       "      <td>0.0</td>\n",
       "      <td>1</td>\n",
       "      <td>39.46</td>\n",
       "      <td>276.22</td>\n",
       "      <td>38.940</td>\n",
       "      <td>49.668367</td>\n",
       "    </tr>\n",
       "    <tr>\n",
       "      <th>3</th>\n",
       "      <td>Modern Accent Boucle Chair,Upholstered Tufted ...</td>\n",
       "      <td>134.388</td>\n",
       "      <td>111.99</td>\n",
       "      <td>0</td>\n",
       "      <td>Free shipping</td>\n",
       "      <td>0.0</td>\n",
       "      <td>1</td>\n",
       "      <td>111.99</td>\n",
       "      <td>0.00</td>\n",
       "      <td>22.398</td>\n",
       "      <td>16.666667</td>\n",
       "    </tr>\n",
       "    <tr>\n",
       "      <th>4</th>\n",
       "      <td>Small Unit Simple Computer Desk Household Wood...</td>\n",
       "      <td>48.820</td>\n",
       "      <td>21.37</td>\n",
       "      <td>1</td>\n",
       "      <td>Free shipping</td>\n",
       "      <td>0.0</td>\n",
       "      <td>1</td>\n",
       "      <td>21.37</td>\n",
       "      <td>21.37</td>\n",
       "      <td>27.450</td>\n",
       "      <td>56.226956</td>\n",
       "    </tr>\n",
       "  </tbody>\n",
       "</table>\n",
       "</div>"
      ],
      "text/plain": [
       "                                        productTitle  originalPrice   price  \\\n",
       "0  Dresser For Bedroom With 9 Fabric Drawers Ward...         56.148   46.79   \n",
       "1  Outdoor Conversation Set 4 Pieces Patio Furnit...        203.664  169.72   \n",
       "2  Desser For Bedroom With 7 Fabric Drawers Organ...         78.400   39.46   \n",
       "3  Modern Accent Boucle Chair,Upholstered Tufted ...        134.388  111.99   \n",
       "4  Small Unit Simple Computer Desk Household Wood...         48.820   21.37   \n",
       "\n",
       "   sold        tagText  shippingCost  isFreeShipping  totalCost  totalRevenue  \\\n",
       "0   600  Free shipping           0.0               1      46.79      28074.00   \n",
       "1     0  Free shipping           0.0               1     169.72          0.00   \n",
       "2     7  Free shipping           0.0               1      39.46        276.22   \n",
       "3     0  Free shipping           0.0               1     111.99          0.00   \n",
       "4     1  Free shipping           0.0               1      21.37         21.37   \n",
       "\n",
       "   discountAmount  discountPercent  \n",
       "0           9.358        16.666667  \n",
       "1          33.944        16.666667  \n",
       "2          38.940        49.668367  \n",
       "3          22.398        16.666667  \n",
       "4          27.450        56.226956  "
      ]
     },
     "execution_count": 713,
     "metadata": {},
     "output_type": "execute_result"
    }
   ],
   "source": [
    "# Calculating discountAmount as originalPrice- price and calculating discount percentage as (discountAmount/OriginalPrice)*100\n",
    "df1['discountAmount']=df1['originalPrice']-df1['price']\n",
    "df1['discountAmount']=df1['originalPrice']-df1['price']\n",
    "df1['discountPercent']=(df1['discountAmount']/df1['originalPrice'])*100\n",
    "df1.head(5)"
   ]
  },
  {
   "cell_type": "code",
   "execution_count": 672,
   "id": "543c0b94-e801-4cc8-8cbf-7bcf1e9607b6",
   "metadata": {},
   "outputs": [
    {
     "data": {
      "image/png": "[encoded data removed]",
      "text/plain": [
       "<Figure size 600x600 with 1 Axes>"
      ]
     },
     "metadata": {},
     "output_type": "display_data"
    }
   ],
   "source": [
    "\n",
    "plt.figure(figsize=(6,6))\n",
    "sns.histplot(df1['price'], bins=30, kde=True)\n",
    "plt.title('Price Distribution of Furniture Items')\n",
    "plt.xlabel('Price')\n",
    "plt.ylabel('Frequency')\n",
    "plt.show()"
   ]
  },
  {
   "cell_type": "markdown",
   "id": "e1b81197-5413-48f1-a8fe-429e80517e93",
   "metadata": {},
   "source": [
    "The graph shows the distribution of furniture item prices.The histogram is skewed to the right, indicating that most furniture items are priced lower, with a few items at higher price points.\n",
    "The kernel density estimation (KDE) curve provides a smoother estimate of the distribution."
   ]
  },
  {
   "cell_type": "code",
   "execution_count": 721,
   "id": "4b877e4f-8a57-4fb1-bf03-409e5a1e637f",
   "metadata": {},
   "outputs": [
    {
     "data": {
      "image/png": "[encoded data removed]",
      "text/plain": [
       "<Figure size 1000x600 with 1 Axes>"
      ]
     },
     "metadata": {},
     "output_type": "display_data"
    }
   ],
   "source": [
    "plt.figure(figsize=(10, 6))\n",
    "sns.scatterplot(data=df1, x='price', y='sold', hue=(df1['tagText'] == 'Free shipping'), \n",
    "                palette={True: 'blue', False: 'red'})\n",
    "plt.title('Price vs. Units Sold with Free Shipping', fontsize=16)\n",
    "plt.xlabel('Price', fontsize=12)\n",
    "plt.ylabel('Units Sold', fontsize=12)\n",
    "plt.legend(title=\"Free Shipping\", labels=[\"Yes\", \"No\"])\n",
    "plt.show()"
   ]
  },
  {
   "cell_type": "markdown",
   "id": "b8d62ced-1187-4a52-9c3d-d89cdea03e75",
   "metadata": {},
   "source": [
    "Offering that Free shipping can be a strong factor in increasing units sold, especially at lower price points.\n",
    "Products with free shipping tend to selling more units even at higher prices while without free shipping the number of units sold is likely to be significantly lower."
   ]
  },
  {
   "cell_type": "code",
   "execution_count": 675,
   "id": "a7fbc08f-7b13-4f99-b7ff-7cc7295eab4d",
   "metadata": {},
   "outputs": [
    {
     "data": {
      "image/png": "[encoded data removed]",
      "text/plain": [
       "<Figure size 800x600 with 1 Axes>"
      ]
     },
     "metadata": {},
     "output_type": "display_data"
    }
   ],
   "source": [
    "\n",
    "# Count the occurrences of each shipping type in the 'tagText' column\n",
    "shipping_counts = df1['tagText'].value_counts()\n",
    "shipping = pd.DataFrame({'value': shipping_counts.values}, index=shipping_counts.index)\n",
    "# Create a new DataFrame for the pie chart\n",
    "pie_data = {\n",
    "    'Free shipping': shipping.loc['Free shipping', 'value'],\n",
    "    'Paid shipping': shipping['value'].sum() - shipping.loc['Free shipping', 'value']\n",
    "}\n",
    "\n",
    "# Convert to DataFrame\n",
    "pie_df = pd.Series(pie_data)\n",
    "\n",
    "plt.figure(figsize=(8, 6))\n",
    "plt.pie(pie_df, labels=pie_df.index, autopct='%1.1f%%', startangle=360)\n",
    "plt.title('Proportion of Free vs. Paid Shipping')\n",
    "plt.axis('equal')  # Equal aspect ratio ensures that pie is drawn as a circle.\n",
    "plt.show()"
   ]
  },
  {
   "cell_type": "markdown",
   "id": "e8b32bdc-e73d-4321-979b-a69cb1988a2f",
   "metadata": {},
   "source": [
    "this graph offering that the people are highly recommended free shipping even on high prices compare to paid shipping "
   ]
  },
  {
   "cell_type": "code",
   "execution_count": 676,
   "id": "60b3e9e0-f904-4f59-9170-bb7106126434",
   "metadata": {},
   "outputs": [],
   "source": [
    "# importing library \n",
    "import plotly.express as px\n",
    "import plotly.graph_objects as go\n",
    "import plotly.io as pio\n",
    "import plotly.colors as color\n",
    "pio.renderers.default = 'iframe'\n"
   ]
  },
  {
   "cell_type": "code",
   "execution_count": 677,
   "id": "6462b570-1f7d-4fce-a5d3-f1ddbdd86db0",
   "metadata": {},
   "outputs": [
    {
     "data": {
      "text/html": [
       "<iframe\n",
       "    scrolling=\"no\"\n",
       "    width=\"100%\"\n",
       "    height=\"545px\"\n",
       "    src=\"iframe_figures/figure_677.html\"\n",
       "    frameborder=\"0\"\n",
       "    allowfullscreen\n",
       "></iframe>\n"
      ]
     },
     "metadata": {},
     "output_type": "display_data"
    }
   ],
   "source": [
    "#sales by product\n",
    "\n",
    "salesByProduct=df1.groupby('productTitle')['sold'].sum().reset_index()\n",
    "top10_sold_items = salesByProduct.sort_values(by='sold', ascending=False).head(10)\n",
    "truncated_labels = top10_sold_items['productTitle'].str[:20]\n",
    "fig=px.bar(top_sold_items,x='productTitle',y='sold')\n",
    "fig.update_layout(xaxis=dict(\n",
    "        tickvals=top_sold_items['productTitle'],  # Original values\n",
    "        ticktext=truncated_labels  # Truncated labels\n",
    "    ),)\n",
    "fig.update_layout(title_text='Top 10 Sold Products', title_font=dict(size=24)) \n",
    "fig.show()"
   ]
  },
  {
   "cell_type": "markdown",
   "id": "afd57f9d-ad9f-495e-bb0e-1024ec534b02",
   "metadata": {},
   "source": [
    "this graph shows the top 10 products sold and indicates the higher demanding product is portable round folding which have the maximum 10000 unit sold "
   ]
  },
  {
   "cell_type": "code",
   "execution_count": null,
   "id": "60753bc8-38bc-4a4b-b2e3-1885d52a686f",
   "metadata": {},
   "outputs": [],
   "source": []
  }
 ],
 "metadata": {
  "kernelspec": {
   "display_name": "Python 3 (ipykernel)",
   "language": "python",
   "name": "python3"
  },
  "language_info": {
   "codemirror_mode": {
    "name": "ipython",
    "version": 3
   },
   "file_extension": ".py",
   "mimetype": "text/x-python",
   "name": "python",
   "nbconvert_exporter": "python",
   "pygments_lexer": "ipython3",
   "version": "3.12.3"
  }
 },
 "nbformat": 4,
 "nbformat_minor": 5
}
